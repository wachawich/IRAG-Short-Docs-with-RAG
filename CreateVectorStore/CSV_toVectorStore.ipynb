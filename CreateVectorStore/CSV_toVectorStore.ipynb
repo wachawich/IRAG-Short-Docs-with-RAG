{
 "cells": [
  {
   "cell_type": "markdown",
   "metadata": {},
   "source": [
    "# Import"
   ]
  },
  {
   "cell_type": "code",
   "execution_count": null,
   "metadata": {},
   "outputs": [],
   "source": [
    "import pandas as pd\n",
    "import os\n",
    "import key_param as key_param"
   ]
  },
  {
   "cell_type": "markdown",
   "metadata": {},
   "source": [
    "# Setup"
   ]
  },
  {
   "cell_type": "code",
   "execution_count": null,
   "metadata": {},
   "outputs": [],
   "source": [
    "os.environ[\"OPENAI_API_KEY\"] = key_param.OPENAI_API_KEY\n",
    "\n",
    "from openai import OpenAI\n",
    "client = OpenAI()"
   ]
  },
  {
   "cell_type": "code",
   "execution_count": null,
   "metadata": {},
   "outputs": [],
   "source": [
    "def get_embedding(text, model=\"text-embedding-3-small\"):\n",
    "   text = str(text)\n",
    "   text = text.replace(\"\\n\", \" \")\n",
    "   \n",
    "   return client.embeddings.create(input = [text], model=model).data[0].embedding"
   ]
  },
  {
   "cell_type": "markdown",
   "metadata": {},
   "source": [
    "# Function"
   ]
  },
  {
   "cell_type": "code",
   "execution_count": null,
   "metadata": {},
   "outputs": [],
   "source": [
    "def combined_Description(df):\n",
    "    \"\"\"\n",
    "    เป็นการเลือก Column เพื่อนำไป Embedding\n",
    "    \"\"\"\n",
    "    combined = []\n",
    "    \n",
    "    for _, row in df.iterrows():\n",
    "        row_values = [str(value).strip() if not pd.isna(value) else \"\" for value in row]  # ใช้ทุก column\n",
    "        combined.append(\" \".join(row_values))\n",
    "    \n",
    "    df[\"combined\"] = combined\n",
    "    \n",
    "    return df"
   ]
  },
  {
   "cell_type": "code",
   "execution_count": null,
   "metadata": {},
   "outputs": [],
   "source": [
    "def embeddingColumn(df):\n",
    "    \"\"\"\n",
    "    นำ Column ที่เลือกมา มา Embedding\n",
    "    \"\"\"\n",
    "     \n",
    "    df['ada_embedding'] = df.combined.apply(lambda x: get_embedding(x, model='text-embedding-3-small'))\n",
    "     \n",
    "    return df"
   ]
  },
  {
   "cell_type": "code",
   "execution_count": null,
   "metadata": {},
   "outputs": [],
   "source": [
    "def to_structure(df):\n",
    "    \"\"\"\n",
    "    เปลี่่ยนตาราง CSV ให้เป็นรูปแบบ Column : Value ตาม pipeline\n",
    "    \"\"\"\n",
    "    df_s_col_list = df.columns.tolist()\n",
    "    \n",
    "    sturcture_text_list = []\n",
    "    for j in range(len(df)):\n",
    "        sturcture_text = \"\"  \n",
    "        df_s_row_list = df.iloc[j,:].tolist()\n",
    "        for i in range(len(df_s_col_list)):\n",
    "            sturcture_text += str(df_s_col_list[i]) + ' : ' + str(df_s_row_list[i]) + '\\n'\n",
    "            \n",
    "            \n",
    "        sturcture_text_list.append(sturcture_text)\n",
    "        \n",
    "    \n",
    "    df['Content'] = sturcture_text_list\n",
    "    \n",
    "        \n",
    "    return df    "
   ]
  },
  {
   "cell_type": "code",
   "execution_count": null,
   "metadata": {},
   "outputs": [],
   "source": [
    "def to_vectore_store(df):\n",
    "    \"\"\"\n",
    "    สร้าง Vector Store\n",
    "    \"\"\"\n",
    "    \n",
    "    df = combined_Description(df)\n",
    "    df = embeddingColumn(df)\n",
    "    df = to_structure(df)\n",
    "    \n",
    "    return df"
   ]
  },
  {
   "cell_type": "markdown",
   "metadata": {},
   "source": [
    "# Make Vector Store"
   ]
  },
  {
   "cell_type": "code",
   "execution_count": null,
   "metadata": {},
   "outputs": [],
   "source": [
    "df = pd.read_csv('./Main.csv', encoding='utf-8')\n",
    "df"
   ]
  },
  {
   "cell_type": "code",
   "execution_count": null,
   "metadata": {},
   "outputs": [],
   "source": [
    "vector_store = to_vectore_store(df)\n",
    "vector_store"
   ]
  },
  {
   "cell_type": "code",
   "execution_count": null,
   "metadata": {},
   "outputs": [],
   "source": [
    "vector_store.to_csv(\"CSV_VectorStore.csv\", index=False)"
   ]
  }
 ],
 "metadata": {
  "language_info": {
   "name": "python"
  }
 },
 "nbformat": 4,
 "nbformat_minor": 2
}
